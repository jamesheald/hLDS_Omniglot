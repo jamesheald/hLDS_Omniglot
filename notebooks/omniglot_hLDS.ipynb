{
 "cells": [
  {
   "cell_type": "code",
   "execution_count": null,
   "id": "9a0fcc29-2d64-49bf-9e76-ea1f4bd09a85",
   "metadata": {},
   "outputs": [
    {
     "name": "stdout",
     "output_type": "stream",
     "text": [
      "Launching TensorBoard...\n",
      "Please visit http://localhost:6006 in a web browser.\n",
      "\u001b[1mBatches 1-1 in 20.70 seconds, learning rate: 0.00100\u001b[0m\n",
      "  Training losses 1.4123 = cross entropy 0.6687 + KL 0.7436 (74.3640)\n",
      "  Validation losses 1.4123 = cross entropy 0.6687 + KL 0.7436 (74.3640)\n",
      "\u001b[1mBatches 2-2 in 16.70 seconds, learning rate: 0.00100\u001b[0m\n",
      "  Training losses 1.4387 = cross entropy 0.6997 + KL 0.7390 (73.9018)\n",
      "  Validation losses 1.4387 = cross entropy 0.6997 + KL 0.7390 (73.9018)\n",
      "\u001b[1mBatches 3-3 in 16.99 seconds, learning rate: 0.00100\u001b[0m\n",
      "  Training losses 1.4506 = cross entropy 0.7069 + KL 0.7437 (74.3652)\n",
      "  Validation losses 1.4506 = cross entropy 0.7069 + KL 0.7437 (74.3652)\n",
      "\u001b[1mBatches 4-4 in 2.61 seconds, learning rate: 0.00100\u001b[0m\n",
      "  Training losses 1.4021 = cross entropy 0.6639 + KL 0.7382 (73.8201)\n",
      "  Validation losses 1.4021 = cross entropy 0.6639 + KL 0.7382 (73.8201)\n",
      "\u001b[1mBatches 5-5 in 2.68 seconds, learning rate: 0.00100\u001b[0m\n",
      "  Training losses 1.4944 = cross entropy 0.7566 + KL 0.7377 (73.7717)\n",
      "  Validation losses 1.4944 = cross entropy 0.7566 + KL 0.7377 (73.7717)\n"
     ]
    }
   ],
   "source": [
    "from hyperparams import get_hyperparameter_configuration\n",
    "from load_data import create_data_split\n",
    "from initialise import initialise_model\n",
    "from train import optimise_model\n",
    "\n",
    "cfg = get_hyperparameter_configuration()\n",
    "\n",
    "train_dataset, validate_dataset, test_dataset, _ = create_data_split(cfg)\n",
    "\n",
    "model, init_params, cfg, key = initialise_model(cfg, train_dataset)\n",
    "\n",
    "from jax.config import config\n",
    "config.update(\"jax_debug_nans\", False)\n",
    "config.update(\"jax_disable_jit\", False)\n",
    "# use xeus-python kernel -- Python 3.9 (XPython) -- for debugging\n",
    "# type help at a breakpoint() to see available commands\n",
    "\n",
    "from flax.metrics import tensorboard\n",
    "log_folder = \"runs/exp9/profile\"\n",
    "writer = tensorboard.SummaryWriter(log_folder)\n",
    "%load_ext tensorboard\n",
    "%tensorboard --logdir=runs/exp9\n",
    "\n",
    "ckpt_dir = 'tmp/flax-checkpointing'\n",
    "import shutil, os\n",
    "if os.path.exists(ckpt_dir):\n",
    "    shutil.rmtree(ckpt_dir) # remove any existing checkpoints from the last notebook run\n",
    "\n",
    "state, losses = optimise_model(model, init_params, train_dataset, validate_dataset, cfg, key, ckpt_dir, writer)\n",
    "\n",
    "# # restore checkpoint\n",
    "# ckpt = {'train_state': state, 'losses': losses, 'cfg': cfg}\n",
    "# restored_state = checkpoints.restore_checkpoint(ckpt_dir = ckpt_dir, target = ckpt)"
   ]
  },
  {
   "cell_type": "code",
   "execution_count": null,
   "id": "4203d937-5be4-4127-8835-02233cc8f109",
   "metadata": {},
   "outputs": [],
   "source": [
    "# # run the model and plot\n",
    "# A = construct_dynamics_matrix(init_params, hyperparams)\n",
    "# data = training_data[0,:,:]\n",
    "# hyperparams['dt'] = 0.01\n",
    "# hyperparams['time_steps'] = 1000\n",
    "# output = model.apply({'params': init_params}, data, params, hyperparams, key, A, x0)\n",
    "\n",
    "# for ex in range(1):\n",
    "#     plt.scatter(output['pen_xy'][ex][:,0],output['pen_xy'][ex][:,1], c = 'k', alpha =  np.exp(output['pen_down_log_p'][ex,:]))\n",
    "# plt.ylim(0,105)\n",
    "# plt.xlim(0,105)\n",
    "# plt.show()"
   ]
  }
 ],
 "metadata": {
  "kernelspec": {
   "display_name": "Python 3.9 (XPython)",
   "language": "python",
   "name": "xpython"
  },
  "language_info": {
   "file_extension": ".py",
   "mimetype": "text/x-python",
   "name": "python",
   "version": "3.9.13"
  }
 },
 "nbformat": 4,
 "nbformat_minor": 5
}
